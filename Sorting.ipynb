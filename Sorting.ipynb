{
 "cells": [
  {
   "cell_type": "markdown",
   "metadata": {},
   "source": [
    "# Sorting"
   ]
  },
  {
   "cell_type": "code",
   "execution_count": 1,
   "metadata": {
    "collapsed": true
   },
   "outputs": [],
   "source": [
    "# Create data to sort\n",
    "a = range(100)\n",
    "# Randomly shuffle\n",
    "import random\n",
    "random.shuffle(a)"
   ]
  },
  {
   "cell_type": "code",
   "execution_count": 2,
   "metadata": {
    "collapsed": false
   },
   "outputs": [
    {
     "name": "stdout",
     "output_type": "stream",
     "text": [
      "[70, 41, 63, 60, 45, 18, 27, 15, 2, 12, 85, 29, 23, 22, 6, 61, 48, 13, 72, 99, 65, 5, 21, 55, 39, 90, 78, 59, 64, 96, 51, 31, 26, 16, 94, 52, 54, 98, 89, 80, 67, 3, 93, 75, 4, 30, 43, 25, 76, 0, 83, 50, 32, 7, 8, 20, 68, 46, 74, 58, 87, 73, 79, 35, 36, 86, 19, 42, 66, 57, 10, 37, 95, 92, 17, 33, 71, 28, 62, 82, 1, 38, 34, 9, 97, 40, 91, 44, 88, 49, 11, 14, 77, 24, 47, 69, 84, 53, 56, 81]\n"
     ]
    }
   ],
   "source": [
    "print a"
   ]
  },
  {
   "cell_type": "code",
   "execution_count": 3,
   "metadata": {
    "collapsed": true
   },
   "outputs": [],
   "source": [
    "def insertion_sort(array):\n",
    "    n = len(array) # size of array\n",
    "    for k in range(n): # loop k=0,1,...,n-1\n",
    "        # everything up to k is sorted\n",
    "        for j in range(k,0,-1): # loop j=k,k-1,...,1\n",
    "            elem = array[j]\n",
    "            prev = array[j-1]\n",
    "            if elem > prev:\n",
    "                break # exit the loop\n",
    "            array[j]   = prev\n",
    "            array[j-1] = elem"
   ]
  },
  {
   "cell_type": "code",
   "execution_count": 4,
   "metadata": {
    "collapsed": false
   },
   "outputs": [
    {
     "name": "stdout",
     "output_type": "stream",
     "text": [
      "[0, 1, 2, 3, 4, 5, 6, 7, 8, 9, 10, 11, 12, 13, 14, 15, 16, 17, 18, 19, 20, 21, 22, 23, 24, 25, 26, 27, 28, 29, 30, 31, 32, 33, 34, 35, 36, 37, 38, 39, 40, 41, 42, 43, 44, 45, 46, 47, 48, 49, 50, 51, 52, 53, 54, 55, 56, 57, 58, 59, 60, 61, 62, 63, 64, 65, 66, 67, 68, 69, 70, 71, 72, 73, 74, 75, 76, 77, 78, 79, 80, 81, 82, 83, 84, 85, 86, 87, 88, 89, 90, 91, 92, 93, 94, 95, 96, 97, 98, 99]\n"
     ]
    }
   ],
   "source": [
    "insertion_sort(a)\n",
    "print a"
   ]
  },
  {
   "cell_type": "code",
   "execution_count": 5,
   "metadata": {
    "collapsed": true
   },
   "outputs": [],
   "source": [
    "def quick_sort(array):\n",
    "    if len(array) <= 1:\n",
    "        return array # no sorting required\n",
    "    lt, eq, gt = [], [], [] # empty lists\n",
    "    elem = array[0]\n",
    "    for item in array:\n",
    "        if item < elem:\n",
    "            lt.append(item)\n",
    "        elif item > elem:\n",
    "            gt.append(item)\n",
    "        else:\n",
    "            eq.append(item)\n",
    "    return quick_sort(lt)+eq+quick_sort(gt)"
   ]
  },
  {
   "cell_type": "code",
   "execution_count": 6,
   "metadata": {
    "collapsed": false
   },
   "outputs": [
    {
     "name": "stdout",
     "output_type": "stream",
     "text": [
      "[44, 71, 86, 17, 12, 59, 97, 76, 18, 10, 48, 34, 27, 3, 11, 88, 56, 38, 5, 20, 40, 19, 45, 95, 72, 14, 62, 25, 84, 66, 87, 78, 36, 46, 61, 77, 79, 58, 67, 1, 60, 29, 4, 68, 70, 21, 50, 53, 73, 23, 64, 96, 74, 69, 26, 83, 65, 82, 89, 35, 32, 6, 13, 55, 91, 37, 52, 41, 80, 63, 81, 7, 51, 75, 31, 57, 28, 49, 94, 8, 90, 2, 9, 15, 47, 30, 43, 24, 33, 42, 22, 98, 39, 92, 93, 0, 54, 16, 85, 99]\n"
     ]
    }
   ],
   "source": [
    "random.shuffle(a)\n",
    "print a"
   ]
  },
  {
   "cell_type": "code",
   "execution_count": 7,
   "metadata": {
    "collapsed": false
   },
   "outputs": [
    {
     "name": "stdout",
     "output_type": "stream",
     "text": [
      "[0, 1, 2, 3, 4, 5, 6, 7, 8, 9, 10, 11, 12, 13, 14, 15, 16, 17, 18, 19, 20, 21, 22, 23, 24, 25, 26, 27, 28, 29, 30, 31, 32, 33, 34, 35, 36, 37, 38, 39, 40, 41, 42, 43, 44, 45, 46, 47, 48, 49, 50, 51, 52, 53, 54, 55, 56, 57, 58, 59, 60, 61, 62, 63, 64, 65, 66, 67, 68, 69, 70, 71, 72, 73, 74, 75, 76, 77, 78, 79, 80, 81, 82, 83, 84, 85, 86, 87, 88, 89, 90, 91, 92, 93, 94, 95, 96, 97, 98, 99]\n"
     ]
    }
   ],
   "source": [
    "print quick_sort(a)"
   ]
  },
  {
   "cell_type": "code",
   "execution_count": 8,
   "metadata": {
    "collapsed": true
   },
   "outputs": [],
   "source": [
    "random.shuffle(a)"
   ]
  },
  {
   "cell_type": "code",
   "execution_count": 9,
   "metadata": {
    "collapsed": false
   },
   "outputs": [
    {
     "name": "stdout",
     "output_type": "stream",
     "text": [
      "CPU times: user 1.81 ms, sys: 1.11 ms, total: 2.93 ms\n",
      "Wall time: 2.34 ms\n"
     ]
    }
   ],
   "source": [
    "%time insertion_sort(a)"
   ]
  },
  {
   "cell_type": "code",
   "execution_count": 10,
   "metadata": {
    "collapsed": false
   },
   "outputs": [
    {
     "name": "stdout",
     "output_type": "stream",
     "text": [
      "CPU times: user 847 µs, sys: 388 µs, total: 1.23 ms\n",
      "Wall time: 924 µs\n"
     ]
    },
    {
     "data": {
      "text/plain": [
       "[0,\n",
       " 1,\n",
       " 2,\n",
       " 3,\n",
       " 4,\n",
       " 5,\n",
       " 6,\n",
       " 7,\n",
       " 8,\n",
       " 9,\n",
       " 10,\n",
       " 11,\n",
       " 12,\n",
       " 13,\n",
       " 14,\n",
       " 15,\n",
       " 16,\n",
       " 17,\n",
       " 18,\n",
       " 19,\n",
       " 20,\n",
       " 21,\n",
       " 22,\n",
       " 23,\n",
       " 24,\n",
       " 25,\n",
       " 26,\n",
       " 27,\n",
       " 28,\n",
       " 29,\n",
       " 30,\n",
       " 31,\n",
       " 32,\n",
       " 33,\n",
       " 34,\n",
       " 35,\n",
       " 36,\n",
       " 37,\n",
       " 38,\n",
       " 39,\n",
       " 40,\n",
       " 41,\n",
       " 42,\n",
       " 43,\n",
       " 44,\n",
       " 45,\n",
       " 46,\n",
       " 47,\n",
       " 48,\n",
       " 49,\n",
       " 50,\n",
       " 51,\n",
       " 52,\n",
       " 53,\n",
       " 54,\n",
       " 55,\n",
       " 56,\n",
       " 57,\n",
       " 58,\n",
       " 59,\n",
       " 60,\n",
       " 61,\n",
       " 62,\n",
       " 63,\n",
       " 64,\n",
       " 65,\n",
       " 66,\n",
       " 67,\n",
       " 68,\n",
       " 69,\n",
       " 70,\n",
       " 71,\n",
       " 72,\n",
       " 73,\n",
       " 74,\n",
       " 75,\n",
       " 76,\n",
       " 77,\n",
       " 78,\n",
       " 79,\n",
       " 80,\n",
       " 81,\n",
       " 82,\n",
       " 83,\n",
       " 84,\n",
       " 85,\n",
       " 86,\n",
       " 87,\n",
       " 88,\n",
       " 89,\n",
       " 90,\n",
       " 91,\n",
       " 92,\n",
       " 93,\n",
       " 94,\n",
       " 95,\n",
       " 96,\n",
       " 97,\n",
       " 98,\n",
       " 99]"
      ]
     },
     "execution_count": 10,
     "metadata": {},
     "output_type": "execute_result"
    }
   ],
   "source": [
    "random.shuffle(a)\n",
    "%time quick_sort(a)"
   ]
  },
  {
   "cell_type": "markdown",
   "metadata": {},
   "source": [
    "# Median and Quantile"
   ]
  },
  {
   "cell_type": "code",
   "execution_count": 11,
   "metadata": {
    "collapsed": true
   },
   "outputs": [],
   "source": [
    "def quantile(array,n):\n",
    "    lt, gt = [], [] # empty lists\n",
    "    elem = array[0]\n",
    "    neq = 0 # number of equal elements\n",
    "    for item in array:\n",
    "        if item < elem:\n",
    "            lt.append(item)\n",
    "        elif item > elem:\n",
    "            gt.append(item)\n",
    "        else:\n",
    "            neq += 1\n",
    "    nlt = len(lt)\n",
    "    if n < nlt:\n",
    "        return quantile(lt,n)\n",
    "    if n < nlt+neq:\n",
    "        return elem\n",
    "    return quantile(gt,n-nlt-neq)"
   ]
  },
  {
   "cell_type": "code",
   "execution_count": 12,
   "metadata": {
    "collapsed": true
   },
   "outputs": [],
   "source": [
    "random.shuffle(a)"
   ]
  },
  {
   "cell_type": "code",
   "execution_count": 14,
   "metadata": {
    "collapsed": false
   },
   "outputs": [
    {
     "name": "stdout",
     "output_type": "stream",
     "text": [
      "[69, 73, 25, 60, 33, 47, 42, 77, 44, 39, 24, 88, 82, 80, 65, 10, 41, 36, 11, 46, 4, 9, 22, 89, 56, 57, 14, 28, 35, 97, 49, 32, 70, 62, 92, 31, 58, 68, 96, 91, 43, 94, 67, 7, 2, 37, 99, 53, 15, 23, 26, 95, 84, 63, 79, 55, 40, 81, 20, 52, 83, 76, 85, 19, 38, 13, 27, 17, 98, 64, 87, 12, 16, 61, 86, 50, 59, 51, 34, 74, 1, 8, 90, 66, 45, 5, 0, 71, 54, 48, 78, 30, 18, 3, 21, 75, 6, 72, 29, 93]\n"
     ]
    }
   ],
   "source": [
    "print a"
   ]
  },
  {
   "cell_type": "code",
   "execution_count": 16,
   "metadata": {
    "collapsed": false
   },
   "outputs": [
    {
     "data": {
      "text/plain": [
       "85"
      ]
     },
     "execution_count": 16,
     "metadata": {},
     "output_type": "execute_result"
    }
   ],
   "source": [
    "quantile(a,85)"
   ]
  },
  {
   "cell_type": "code",
   "execution_count": null,
   "metadata": {
    "collapsed": true
   },
   "outputs": [],
   "source": []
  }
 ],
 "metadata": {
  "kernelspec": {
   "display_name": "Python 2",
   "language": "python",
   "name": "python2"
  },
  "language_info": {
   "codemirror_mode": {
    "name": "ipython",
    "version": 2
   },
   "file_extension": ".py",
   "mimetype": "text/x-python",
   "name": "python",
   "nbconvert_exporter": "python",
   "pygments_lexer": "ipython2",
   "version": "2.7.11"
  }
 },
 "nbformat": 4,
 "nbformat_minor": 0
}
